{
 "cells": [
  {
   "cell_type": "code",
   "execution_count": null,
   "metadata": {},
   "outputs": [],
   "source": [
    "import os\n",
    "from osgeo import gdal\n",
    "\n",
    "# Directory containing the TIFF files\n",
    "tiff_directory = r\"C:\\...\"\n",
    "\n",
    "# List all the TIFF files\n",
    "tiff_files = [os.path.join(tiff_directory, f) for f in os.listdir(tiff_directory) if f.endswith('.tif')]\n",
    "\n",
    "# Path for the output mosaic\n",
    "mosaic_output_path = r\"F:\\filename.tif\"\n",
    "\n",
    "# Create the mosaic using GDAL's BuildVRT and Translate functions\n",
    "vrt_options = gdal.BuildVRTOptions(resampleAlg='nearest')\n",
    "mosaic_vrt = gdal.BuildVRT(\"mosaic_temp.vrt\", tiff_files, options=vrt_options)\n",
    "gdal.Translate(mosaic_output_path, mosaic_vrt)\n",
    "\n",
    "# Clean up by closing the VRT\n",
    "mosaic_vrt = None\n",
    "\n",
    "# Optionally, delete the temporary VRT file\n",
    "os.remove(\"mosaic_temp.vrt\")"
   ]
  }
 ],
 "metadata": {
  "kernelspec": {
   "display_name": "Python 3",
   "language": "python",
   "name": "python3"
  },
  "language_info": {
   "codemirror_mode": {
    "name": "ipython",
    "version": 3
   },
   "file_extension": ".py",
   "mimetype": "text/x-python",
   "name": "python",
   "nbconvert_exporter": "python",
   "pygments_lexer": "ipython3",
   "version": "3.10.7"
  }
 },
 "nbformat": 4,
 "nbformat_minor": 2
}
