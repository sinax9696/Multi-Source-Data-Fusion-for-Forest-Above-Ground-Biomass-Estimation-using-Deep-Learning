{
 "cells": [
  {
   "cell_type": "code",
   "execution_count": null,
   "metadata": {},
   "outputs": [],
   "source": [
    "import rasterio\n",
    "\n",
    "def update_nodata_to_zero(input_file, output_file):\n",
    "    with rasterio.open(input_file, 'r+') as ds:\n",
    "        # Read the data\n",
    "        data = ds.read(1)  # Read only the first band\n",
    "\n",
    "        # Change NoData values to 0\n",
    "        data[data == ds.nodata] = 0\n",
    "\n",
    "        # Optionally, you can set NoData value to 0\n",
    "        ds.nodata = 0\n",
    "\n",
    "        # Ensure CRS is preserved\n",
    "        crs = ds.crs\n",
    "\n",
    "        # Save the changes with the same CRS\n",
    "        with rasterio.open(output_file, 'w', driver='GTiff', height=ds.height, width=ds.width, count=1, dtype=data.dtype, crs=crs, transform=ds.transform) as out_ds:\n",
    "            out_ds.write(data, 1)\n",
    "\n",
    "# Replace 'input.tif' and 'output.tif' with your file paths\n",
    "update_nodata_to_zero(r'input.tif', \n",
    "                      r'output.tif')\n"
   ]
  }
 ],
 "metadata": {
  "kernelspec": {
   "display_name": "Python 3",
   "language": "python",
   "name": "python3"
  },
  "language_info": {
   "codemirror_mode": {
    "name": "ipython",
    "version": 3
   },
   "file_extension": ".py",
   "mimetype": "text/x-python",
   "name": "python",
   "nbconvert_exporter": "python",
   "pygments_lexer": "ipython3",
   "version": "3.10.7"
  }
 },
 "nbformat": 4,
 "nbformat_minor": 2
}
